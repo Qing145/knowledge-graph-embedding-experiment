{
 "cells": [
  {
   "cell_type": "code",
   "execution_count": 3,
   "metadata": {},
   "outputs": [],
   "source": [
    "import codecs\n",
    "import  matplotlib.pyplot as plt\n",
    "import re\n",
    "from config import *"
   ]
  },
  {
   "cell_type": "code",
   "execution_count": 34,
   "metadata": {},
   "outputs": [],
   "source": [
    "model = ['DistMult', '50', '0.0001', 'wn', 'Adam']"
   ]
  },
  {
   "cell_type": "code",
   "execution_count": 45,
   "metadata": {},
   "outputs": [],
   "source": [
    "file_path = 'checkpoint/{}.emb_{}.lr_{}.data_{}.optim_{}.check.txt'.format(model[0], model[1], model[2], model[3], model[4])"
   ]
  },
  {
   "cell_type": "code",
   "execution_count": 46,
   "metadata": {},
   "outputs": [
    {
     "data": {
      "text/plain": [
       "{'root': 'data/FB15k',\n",
       " 'name_list': ['freebase_mtr100_mte100-test.txt',\n",
       "  'freebase_mtr100_mte100-train.txt',\n",
       "  'freebase_mtr100_mte100-valid.txt'],\n",
       " 'ent_tot': 14951,\n",
       " 'rel_tot': 1345,\n",
       " 'train_tot': 483142,\n",
       " 'test_tot': 59071,\n",
       " 'valid_tot': 50000}"
      ]
     },
     "execution_count": 46,
     "metadata": {},
     "output_type": "execute_result"
    }
   ],
   "source": [
    "datasets_param.d['FB15k']"
   ]
  },
  {
   "cell_type": "code",
   "execution_count": 47,
   "metadata": {},
   "outputs": [],
   "source": [
    "\n",
    "\n",
    "fr = codecs.open(file_path, 'r', encoding='utf-8')\n",
    "v_loss = []\n",
    "t_loss = []\n",
    "for line in fr.readlines():\n",
    "    p = re.match(r'epoch:([\\.0-9]+), valid loss:([\\.0-9]+), train loss:([\\.0-9]+), timestep:([\\.0-9]+)', line)\n",
    "    if 'FB15k' in file_path:\n",
    "        v_loss.append(float(p.group(2)) / datasets_param.d['FB15k']['valid_tot'])\n",
    "        t_loss.append(float(p.group(3)) / datasets_param.d['FB15k']['train_tot'])\n",
    "    elif 'wn' in file_path:\n",
    "        v_loss.append(float(p.group(2)) / datasets_param.d['wn']['valid_tot'])\n",
    "        t_loss.append(float(p.group(3)) / datasets_param.d['wn']['train_tot'])"
   ]
  },
  {
   "cell_type": "code",
   "execution_count": 48,
   "metadata": {},
   "outputs": [
    {
     "data": {
      "text/plain": [
       "1000"
      ]
     },
     "execution_count": 48,
     "metadata": {},
     "output_type": "execute_result"
    }
   ],
   "source": [
    "\n",
    "len(v_loss)"
   ]
  },
  {
   "cell_type": "code",
   "execution_count": 49,
   "metadata": {},
   "outputs": [
    {
     "data": {
      "text/plain": [
       "1000"
      ]
     },
     "execution_count": 49,
     "metadata": {},
     "output_type": "execute_result"
    }
   ],
   "source": [
    "x_ = range(1, 1001)\n",
    "len(x_)"
   ]
  },
  {
   "cell_type": "code",
   "execution_count": 52,
   "metadata": {},
   "outputs": [],
   "source": [
    "x_t = x_[:50]\n",
    "v_loss_t = v_loss[:50]\n",
    "t_loss_t = t_loss[:50]"
   ]
  },
  {
   "cell_type": "code",
   "execution_count": 53,
   "metadata": {},
   "outputs": [
    {
     "data": {
      "image/png": "[encoded data removed]",
      "text/plain": [
       "<Figure size 432x288 with 1 Axes>"
      ]
     },
     "metadata": {
      "needs_background": "light"
     },
     "output_type": "display_data"
    }
   ],
   "source": [
    "plt.plot(x_t, v_loss_t, label='valid loss')\n",
    "plt.plot(x_t, t_loss_t, label='train loss')\n",
    "plt.title('model:{}, emb_dim:{}, lr:{}, dataset:{}, optim:{}'.format(model[0], model[1], model[2], model[3], model[4]))\n",
    "plt.xlabel('train epochs')\n",
    "plt.ylabel('loss value')\n",
    "plt.legend()\n",
    "plt.show()"
   ]
  },
  {
   "cell_type": "code",
   "execution_count": null,
   "metadata": {},
   "outputs": [],
   "source": []
  }
 ],
 "metadata": {
  "kernelspec": {
   "display_name": "Python 3",
   "language": "python",
   "name": "python3"
  }
 },
 "nbformat": 4,
 "nbformat_minor": 2
}
